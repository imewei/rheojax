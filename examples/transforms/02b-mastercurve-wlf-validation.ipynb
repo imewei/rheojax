{
 "cells": [
  {
   "cell_type": "markdown",
   "metadata": {},
   "source": "# WLF Parameter Validation with Synthetic TTS Data\n\nThis notebook validates the WLF parameter extraction workflow using synthetic multi-temperature data with **known ground truth parameters**. This complements `02-mastercurve-tts.ipynb` which demonstrates TTS with real experimental data.\n\n**Learning Objectives:**\n- Generate synthetic multi-temperature data with known WLF parameters (C\u2081=17.44, C\u2082=51.6K)\n- Validate WLF parameter extraction accuracy\n- Fit fractional Maxwell model to mastercurve\n- Validate temperature-by-temperature predictions\n- Understand WLF parameter error propagation\n\n**Prerequisites:** Understanding of WLF equation and time-temperature superposition (see `02-mastercurve-tts.ipynb`)\n\n**Estimated Time:** 25-30 minutes\n\n**Companion Notebook:** Use `02-mastercurve-tts.ipynb` for practical workflow with real TRIOS data."
  },
  {
   "cell_type": "markdown",
   "metadata": {},
   "source": [
    "## Setup and Imports"
   ]
  },
  {
   "cell_type": "code",
   "execution_count": null,
   "metadata": {},
   "outputs": [],
   "source": [
    "import numpy as np\n",
    "import matplotlib.pyplot as plt\n",
    "from rheojax.pipeline import MastercurvePipeline\n",
    "from rheojax.core.data import RheoData\n",
    "from rheojax.transforms import Mastercurve\n",
    "\n",
    "np.random.seed(42)"
   ]
  },
  {
   "cell_type": "markdown",
   "metadata": {},
   "source": [
    "## Generate Multi-Temperature Synthetic Data\n",
    "\n",
    "We'll simulate frequency sweep data at multiple temperatures for a viscoelastic polymer."
   ]
  },
  {
   "cell_type": "code",
   "execution_count": null,
   "metadata": {},
   "outputs": [],
   "source": [
    "# Temperature conditions\n",
    "temperatures_C = np.array([20, 30, 40, 50, 60])  # Celsius\n",
    "temperatures_K = temperatures_C + 273.15  # Kelvin\n",
    "reference_temp = 298.15  # 25\u00b0C in Kelvin\n",
    "\n",
    "# WLF equation parameters (typical for polymers)\n",
    "C1_true = 17.44  # WLF constant\n",
    "C2_true = 51.6   # WLF constant (K)\n",
    "T0_true = reference_temp  # Reference temperature\n",
    "\n",
    "# Frequency range for each temperature\n",
    "freq_base = np.logspace(-2, 2, 30)  # 0.01 to 100 rad/s\n",
    "\n",
    "print(f\"Generating data at {len(temperatures_C)} temperatures:\")\n",
    "print(f\"Temperatures: {temperatures_C} \u00b0C\")\n",
    "print(f\"Reference temperature: {reference_temp-273.15:.1f} \u00b0C\")"
   ]
  },
  {
   "cell_type": "code",
   "execution_count": null,
   "metadata": {},
   "outputs": [],
   "source": [
    "def calculate_shift_factor(T, T0, C1, C2):\n",
    "    \"\"\"\n",
    "    Calculate WLF shift factor.\n",
    "    log10(a_T) = -C1 * (T - T0) / (C2 + T - T0)\n",
    "    \"\"\"\n",
    "    return 10**(-C1 * (T - T0) / (C2 + T - T0))\n",
    "\n",
    "def generate_storage_modulus(omega, G0=1e6, tau=1.0, alpha=0.5):\n",
    "    \"\"\"\n",
    "    Generate storage modulus G' for fractional Maxwell model.\n",
    "    Approximation: G' ~ G0 * (omega*tau)^alpha / (1 + (omega*tau)^(2*alpha))\n",
    "    \"\"\"\n",
    "    x = omega * tau\n",
    "    return G0 * x**alpha / (1 + x**(2*alpha))\n",
    "\n",
    "# Generate data for each temperature\n",
    "datasets = []\n",
    "shifted_frequencies = []\n",
    "\n",
    "for T in temperatures_K:\n",
    "    # Calculate shift factor\n",
    "    a_T = calculate_shift_factor(T, T0_true, C1_true, C2_true)\n",
    "    \n",
    "    # Shifted frequency\n",
    "    freq_shifted = freq_base / a_T\n",
    "    shifted_frequencies.append(freq_shifted)\n",
    "    \n",
    "    # Generate G' data with temperature-dependent parameters\n",
    "    G_prime = generate_storage_modulus(freq_shifted, G0=1e6, tau=1.0, alpha=0.5)\n",
    "    \n",
    "    # Add noise (3% relative error)\n",
    "    noise = 0.03 * np.random.randn(len(G_prime))\n",
    "    G_prime_noisy = G_prime * (1 + noise)\n",
    "    \n",
    "    # Create RheoData object\n",
    "    data = RheoData(\n",
    "        x=freq_base,\n",
    "        y=G_prime_noisy,\n",
    "        x_units='rad/s',\n",
    "        y_units='Pa',\n",
    "        domain='frequency',\n",
    "        test_mode='oscillation',\n",
    "        metadata={'temperature': T}\n",
    "    )\n",
    "    datasets.append(data)\n",
    "\n",
    "print(f\"\\nGenerated {len(datasets)} datasets\")\n",
    "print(f\"Frequency range: {freq_base[0]:.2e} to {freq_base[-1]:.2e} rad/s\")"
   ]
  },
  {
   "cell_type": "markdown",
   "metadata": {},
   "source": [
    "## Visualize Original Multi-Temperature Data"
   ]
  },
  {
   "cell_type": "code",
   "execution_count": null,
   "metadata": {},
   "outputs": [],
   "source": [
    "plt.figure(figsize=(10, 6))\n",
    "\n",
    "colors = plt.cm.coolwarm(np.linspace(0, 1, len(temperatures_C)))\n",
    "\n",
    "for i, (data, T_C) in enumerate(zip(datasets, temperatures_C)):\n",
    "    plt.loglog(data.x, data.y, 'o', color=colors[i], \n",
    "               label=f'{T_C}\u00b0C', markersize=5, alpha=0.7)\n",
    "\n",
    "plt.xlabel('Frequency (rad/s)', fontsize=12)\n",
    "plt.ylabel(\"Storage Modulus G' (Pa)\", fontsize=12)\n",
    "plt.title('Multi-Temperature Frequency Sweep Data (Before TTS)', fontsize=14)\n",
    "plt.legend(title='Temperature', fontsize=10)\n",
    "plt.grid(True, alpha=0.3)\n",
    "plt.tight_layout()\n",
    "plt.show()\n",
    "\n",
    "print(\"\\nNote: Data at different temperatures show horizontal shifts,\")\n",
    "print(\"indicating temperature-dependent relaxation time scales.\")"
   ]
  },
  {
   "cell_type": "markdown",
   "metadata": {},
   "source": [
    "## Apply Time-Temperature Superposition\n",
    "\n",
    "We'll use the `Mastercurve` transform to apply TTS and create a mastercurve."
   ]
  },
  {
   "cell_type": "code",
   "execution_count": null,
   "metadata": {},
   "outputs": [],
   "source": [
    "# Create Mastercurve transform\n",
    "mc_transform = Mastercurve(\n",
    "    reference_temp=reference_temp,\n",
    "    method='wlf',  # Williams-Landel-Ferry equation\n",
    "    optimize_shifts=True  # Optimize shift factors\n",
    ")\n",
    "\n",
    "# Apply transform to create mastercurve\n",
    "mastercurve, shift_factors = mc_transform.transform(datasets)\n",
    "\n",
    "print(\"\\nMastercurve Statistics:\")\n",
    "print(f\"  Number of points: {len(mastercurve.x)}\")\n",
    "print(f\"  Frequency range: {mastercurve.x.min():.2e} to {mastercurve.x.max():.2e} rad/s\")\n",
    "print(f\"  Frequency span: {np.log10(mastercurve.x.max() / mastercurve.x.min()):.1f} decades\")"
   ]
  },
  {
   "cell_type": "markdown",
   "metadata": {},
   "source": [
    "## Extract WLF Parameters"
   ]
  },
  {
   "cell_type": "code",
   "execution_count": null,
   "metadata": {},
   "outputs": [],
   "source": [
    "# Get fitted WLF parameters\n",
    "wlf_params = mc_transform.get_wlf_parameters()\n",
    "C1_fitted = wlf_params['C1']\n",
    "C2_fitted = wlf_params['C2']\n",
    "\n",
    "print(\"\\n\" + \"=\"*60)\n",
    "print(\"WLF PARAMETER COMPARISON\")\n",
    "print(\"=\"*60)\n",
    "print(f\"\\nC1:\")\n",
    "print(f\"  True value:   {C1_true:.2f}\")\n",
    "print(f\"  Fitted value: {C1_fitted:.2f}\")\n",
    "print(f\"  Error:        {abs(C1_fitted - C1_true)/C1_true * 100:.1f}%\")\n",
    "\n",
    "print(f\"\\nC2:\")\n",
    "print(f\"  True value:   {C2_true:.2f} K\")\n",
    "print(f\"  Fitted value: {C2_fitted:.2f} K\")\n",
    "print(f\"  Error:        {abs(C2_fitted - C2_true)/C2_true * 100:.1f}%\")\n",
    "\n",
    "print(f\"\\nReference temperature: {reference_temp-273.15:.1f}\u00b0C ({reference_temp:.2f} K)\")"
   ]
  },
  {
   "cell_type": "markdown",
   "metadata": {},
   "source": [
    "## Visualize Shift Factors"
   ]
  },
  {
   "cell_type": "code",
   "execution_count": null,
   "metadata": {},
   "outputs": [],
   "source": [
    "# Calculate theoretical shift factors\n",
    "shift_factors_true = [calculate_shift_factor(T, T0_true, C1_true, C2_true) \n",
    "                      for T in temperatures_K]\n",
    "\n",
    "# Plot shift factors\n",
    "fig, (ax1, ax2) = plt.subplots(1, 2, figsize=(14, 5))\n",
    "\n",
    "# Left: log(a_T) vs Temperature\n",
    "ax1.plot(temperatures_C, np.log10(shift_factors_true), 'o-', \n",
    "         label='True WLF', markersize=8, linewidth=2)\n",
    "ax1.plot(temperatures_C, np.log10(shift_factors), 's-', \n",
    "         label='Fitted', markersize=8, linewidth=2, alpha=0.7)\n",
    "ax1.axhline(y=0, color='k', linestyle='--', linewidth=1, alpha=0.5)\n",
    "ax1.axvline(x=reference_temp-273.15, color='k', linestyle='--', \n",
    "            linewidth=1, alpha=0.5, label='Reference T')\n",
    "ax1.set_xlabel('Temperature (\u00b0C)', fontsize=12)\n",
    "ax1.set_ylabel('log\u2081\u2080(a\u209c)', fontsize=12)\n",
    "ax1.set_title('WLF Shift Factors', fontsize=13)\n",
    "ax1.legend()\n",
    "ax1.grid(True, alpha=0.3)\n",
    "\n",
    "# Right: 1/(T-T0) representation\n",
    "T_diff = temperatures_K - reference_temp\n",
    "log_aT_fitted = np.log10(shift_factors)\n",
    "\n",
    "ax2.plot(T_diff, -log_aT_fitted, 'o-', markersize=8, linewidth=2)\n",
    "ax2.set_xlabel('T - T\u2080 (K)', fontsize=12)\n",
    "ax2.set_ylabel('-log\u2081\u2080(a\u209c)', fontsize=12)\n",
    "ax2.set_title('WLF Linearization Check', fontsize=13)\n",
    "ax2.grid(True, alpha=0.3)\n",
    "\n",
    "plt.tight_layout()\n",
    "plt.show()"
   ]
  },
  {
   "cell_type": "markdown",
   "metadata": {},
   "source": [
    "## Visualize Mastercurve with Original Data"
   ]
  },
  {
   "cell_type": "code",
   "execution_count": null,
   "metadata": {},
   "outputs": [],
   "source": [
    "fig, (ax1, ax2) = plt.subplots(1, 2, figsize=(15, 5))\n",
    "\n",
    "# Left: Original data\n",
    "for i, (data, T_C) in enumerate(zip(datasets, temperatures_C)):\n",
    "    ax1.loglog(data.x, data.y, 'o', color=colors[i], \n",
    "               label=f'{T_C}\u00b0C', markersize=5, alpha=0.5)\n",
    "ax1.set_xlabel('Frequency (rad/s)', fontsize=12)\n",
    "ax1.set_ylabel(\"Storage Modulus G' (Pa)\", fontsize=12)\n",
    "ax1.set_title('Before TTS', fontsize=13)\n",
    "ax1.legend(fontsize=9)\n",
    "ax1.grid(True, alpha=0.3)\n",
    "\n",
    "# Right: Mastercurve (shifted data)\n",
    "for i, (data, T_C, a_T) in enumerate(zip(datasets, temperatures_C, shift_factors)):\n",
    "    freq_shifted = data.x * a_T\n",
    "    ax2.loglog(freq_shifted, data.y, 'o', color=colors[i], \n",
    "               label=f'{T_C}\u00b0C', markersize=5, alpha=0.5)\n",
    "\n",
    "ax2.set_xlabel('Reduced Frequency \u03c9\u00b7a\u209c (rad/s)', fontsize=12)\n",
    "ax2.set_ylabel(\"Storage Modulus G' (Pa)\", fontsize=12)\n",
    "ax2.set_title('After TTS (Mastercurve)', fontsize=13)\n",
    "ax2.legend(fontsize=9)\n",
    "ax2.grid(True, alpha=0.3)\n",
    "\n",
    "plt.tight_layout()\n",
    "plt.show()\n",
    "\n",
    "print(\"\\nNote: After TTS, all data collapses onto a single mastercurve,\")\n",
    "print(\"extending the effective frequency range by several decades.\")"
   ]
  },
  {
   "cell_type": "markdown",
   "metadata": {},
   "source": [
    "## Fit Fractional Model to Mastercurve\n",
    "\n",
    "Now we'll fit a fractional Maxwell liquid model to the mastercurve data."
   ]
  },
  {
   "cell_type": "code",
   "execution_count": null,
   "metadata": {},
   "outputs": [],
   "source": [
    "from rheojax.pipeline import Pipeline\n",
    "\n",
    "# Create pipeline and fit model\n",
    "pipeline = Pipeline()\n",
    "pipeline.load_data(mastercurve)\n",
    "pipeline.fit('fractional_maxwell_liquid')\n",
    "\n",
    "# Get fitted parameters\n",
    "fitted_params = pipeline.get_fitted_parameters()\n",
    "\n",
    "print(\"\\n\" + \"=\"*60)\n",
    "print(\"FITTED MODEL PARAMETERS\")\n",
    "print(\"=\"*60)\n",
    "for name, param in fitted_params.items():\n",
    "    print(f\"  {name}: {param.value:.3e} {param.units if param.units else ''}\")\n",
    "\n",
    "# Get model predictions\n",
    "mastercurve_pred = pipeline.predict(mastercurve)"
   ]
  },
  {
   "cell_type": "markdown",
   "metadata": {},
   "source": [
    "## Validate Model Predictions"
   ]
  },
  {
   "cell_type": "code",
   "execution_count": null,
   "metadata": {},
   "outputs": [],
   "source": [
    "# Calculate R\u00b2 for mastercurve fit\n",
    "ss_res = np.sum((mastercurve.y - mastercurve_pred)**2)\n",
    "ss_tot = np.sum((mastercurve.y - np.mean(mastercurve.y))**2)\n",
    "r_squared = 1 - (ss_res / ss_tot)\n",
    "\n",
    "# Plot mastercurve with model fit\n",
    "plt.figure(figsize=(10, 6))\n",
    "\n",
    "# Plot shifted experimental data\n",
    "for i, (data, T_C, a_T) in enumerate(zip(datasets, temperatures_C, shift_factors)):\n",
    "    freq_shifted = data.x * a_T\n",
    "    plt.loglog(freq_shifted, data.y, 'o', color=colors[i], \n",
    "               markersize=5, alpha=0.5, label=f'{T_C}\u00b0C (data)')\n",
    "\n",
    "# Plot model fit\n",
    "plt.loglog(mastercurve.x, mastercurve_pred, 'k-', \n",
    "           linewidth=3, label=f'Fractional Maxwell Liquid (R\u00b2={r_squared:.4f})')\n",
    "\n",
    "plt.xlabel('Reduced Frequency \u03c9\u00b7a\u209c (rad/s)', fontsize=12)\n",
    "plt.ylabel(\"Storage Modulus G' (Pa)\", fontsize=12)\n",
    "plt.title('Mastercurve with Fractional Model Fit', fontsize=14)\n",
    "plt.legend(fontsize=9, ncol=2)\n",
    "plt.grid(True, alpha=0.3)\n",
    "plt.tight_layout()\n",
    "plt.show()\n",
    "\n",
    "print(f\"\\nModel fit quality: R\u00b2 = {r_squared:.6f}\")"
   ]
  },
  {
   "cell_type": "markdown",
   "metadata": {},
   "source": [
    "## Predict Back to Original Temperature Domain"
   ]
  },
  {
   "cell_type": "code",
   "execution_count": null,
   "metadata": {},
   "outputs": [],
   "source": [
    "# Use WLF parameters to predict data at each temperature\n",
    "fig, axes = plt.subplots(2, 3, figsize=(15, 9))\n",
    "axes = axes.flatten()\n",
    "\n",
    "for i, (data, T_C, a_T, ax) in enumerate(zip(datasets, temperatures_C, shift_factors, axes)):\n",
    "    # Original frequency data at this temperature\n",
    "    freq_orig = data.x\n",
    "    G_orig = data.y\n",
    "    \n",
    "    # Predict using mastercurve model\n",
    "    # Convert to reduced frequency, predict, convert back\n",
    "    freq_reduced = freq_orig * a_T\n",
    "    \n",
    "    # Create temporary data at reduced frequency\n",
    "    data_temp = RheoData(\n",
    "        x=freq_reduced,\n",
    "        y=np.ones_like(freq_reduced),  # Dummy values\n",
    "        x_units='rad/s',\n",
    "        y_units='Pa',\n",
    "        domain='frequency',\n",
    "        test_mode='oscillation'\n",
    "    )\n",
    "    \n",
    "    G_pred = pipeline.predict(data_temp)\n",
    "    \n",
    "    # Plot\n",
    "    ax.loglog(freq_orig, G_orig, 'o', label='Data', markersize=5, alpha=0.6)\n",
    "    ax.loglog(freq_orig, G_pred, '-', label='Model', linewidth=2)\n",
    "    ax.set_xlabel('Frequency (rad/s)', fontsize=10)\n",
    "    ax.set_ylabel(\"G' (Pa)\", fontsize=10)\n",
    "    ax.set_title(f'T = {T_C}\u00b0C', fontsize=11)\n",
    "    ax.legend(fontsize=8)\n",
    "    ax.grid(True, alpha=0.3)\n",
    "\n",
    "# Remove extra subplot\n",
    "fig.delaxes(axes[-1])\n",
    "\n",
    "plt.suptitle('Model Validation: Predictions at Each Temperature', fontsize=14, y=1.00)\n",
    "plt.tight_layout()\n",
    "plt.show()"
   ]
  },
  {
   "cell_type": "markdown",
   "metadata": {},
   "source": [
    "## Summary Statistics"
   ]
  },
  {
   "cell_type": "code",
   "execution_count": null,
   "metadata": {},
   "outputs": [],
   "source": [
    "print(\"\\n\" + \"=\"*60)\n",
    "print(\"TIME-TEMPERATURE SUPERPOSITION SUMMARY\")\n",
    "print(\"=\"*60)\n",
    "\n",
    "print(f\"\\n1. WLF Parameters (reference T = {reference_temp-273.15:.1f}\u00b0C):\")\n",
    "print(f\"   C\u2081 = {C1_fitted:.2f} (true: {C1_true:.2f})\")\n",
    "print(f\"   C\u2082 = {C2_fitted:.2f} K (true: {C2_true:.2f} K)\")\n",
    "\n",
    "print(f\"\\n2. Mastercurve Coverage:\")\n",
    "print(f\"   Original frequency range: {np.log10(freq_base[-1]/freq_base[0]):.1f} decades\")\n",
    "print(f\"   Mastercurve frequency range: {np.log10(mastercurve.x.max()/mastercurve.x.min()):.1f} decades\")\n",
    "print(f\"   Effective range extension: {np.log10(mastercurve.x.max()/mastercurve.x.min()) - np.log10(freq_base[-1]/freq_base[0]):.1f} decades\")\n",
    "\n",
    "print(f\"\\n3. Model Fit Quality:\")\n",
    "print(f\"   Model: Fractional Maxwell Liquid\")\n",
    "print(f\"   R\u00b2 = {r_squared:.6f}\")\n",
    "print(f\"   Number of parameters: {len(fitted_params)}\")\n",
    "\n",
    "print(f\"\\n4. Temperature Range:\")\n",
    "print(f\"   Minimum: {temperatures_C.min():.1f}\u00b0C\")\n",
    "print(f\"   Maximum: {temperatures_C.max():.1f}\u00b0C\")\n",
    "print(f\"   Span: {temperatures_C.max() - temperatures_C.min():.1f}\u00b0C\")"
   ]
  },
  {
   "cell_type": "markdown",
   "metadata": {},
   "source": [
    "## Conclusion\n",
    "\n",
    "In this notebook, we demonstrated time-temperature superposition (TTS) using the rheo package:\n",
    "\n",
    "### Key Accomplishments:\n",
    "\n",
    "1. **Multi-Temperature Data Generation**: Created synthetic frequency sweep data at 5 temperatures\n",
    "2. **TTS Application**: Successfully applied WLF equation to shift data onto a mastercurve\n",
    "3. **WLF Parameter Extraction**: Recovered WLF constants (C\u2081, C\u2082) from the data\n",
    "4. **Model Fitting**: Fitted fractional Maxwell liquid model to extended frequency range\n",
    "5. **Validation**: Verified model predictions at each temperature\n",
    "\n",
    "### Benefits of Time-Temperature Superposition:\n",
    "\n",
    "- **Extended Frequency Range**: Increases effective measurement window by several decades\n",
    "- **Reduced Testing Time**: Fewer measurements needed at each temperature\n",
    "- **Material Characterization**: WLF parameters characterize temperature-dependent behavior\n",
    "- **Predictive Capability**: Model predictions at unmeasured temperatures\n",
    "\n",
    "### Practical Applications:\n",
    "\n",
    "- Polymer characterization and quality control\n",
    "- Predicting long-term behavior from short-term measurements\n",
    "- Understanding temperature effects on material performance\n",
    "- Accelerated aging studies\n",
    "\n",
    "### Next Steps:\n",
    "\n",
    "- Explore model comparison on mastercurves (see `multi_model_comparison.ipynb`)\n",
    "- Try multi-technique fitting (see `multi_technique_fitting.ipynb`)\n",
    "- Apply TTS to experimental data with more complex temperature dependencies"
   ]
  }
 ],
 "metadata": {
  "kernelspec": {
   "display_name": "Python 3",
   "language": "python",
   "name": "python3"
  },
  "language_info": {
   "codemirror_mode": {
    "name": "ipython",
    "version": 3
   },
   "file_extension": ".py",
   "mimetype": "text/x-python",
   "name": "python",
   "nbconvert_exporter": "python",
   "pygments_lexer": "ipython3",
   "version": "3.12.0"
  }
 },
 "nbformat": 4,
 "nbformat_minor": 4
}
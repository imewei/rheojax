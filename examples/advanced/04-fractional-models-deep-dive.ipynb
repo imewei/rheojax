{
 "cells": [
  {
   "cell_type": "markdown",
   "metadata": {},
   "source": "# Fractional Calculus Models Deep-Dive\n\nComprehensive coverage of all 11 fractional rheological models with physical interpretation.\n\n## Learning Objectives\n- Understand fractional derivatives in rheology context\n- Demonstrate all 11 fractional models available in Rheo\n- Compare fractional vs classical models for power-law materials\n- Interpret fractional order \u03b1 physical meaning\n- Apply model selection criteria\n\n## Prerequisites\n- SpringPot basics (`basic/03-springpot-fitting.ipynb`)\n- Mathematical maturity (fractional calculus)\n\n**Estimated Time:** 55-60 minutes"
  },
  {
   "cell_type": "markdown",
   "metadata": {},
   "source": "## Fractional Calculus Background\n\n**Fractional derivative:** Generalization of integer derivatives to non-integer orders.\n\n**Rheological motivation:**\n- Classical models: Exponential relaxation G(t) \u221d exp(-t/\u03c4)\n- Real materials: Power-law relaxation G(t) \u221d t^(-\u03b1)\n- Fractional models naturally capture power-law behavior\n\n**Physical interpretation of \u03b1:**\n- \u03b1 = 0: Elastic solid (pure spring)\n- 0 < \u03b1 < 1: Viscoelastic (fractional SpringPot)\n- \u03b1 = 1: Viscous fluid (pure dashpot)"
  },
  {
   "cell_type": "code",
   "execution_count": null,
   "metadata": {},
   "outputs": [],
   "source": "import numpy as np\nimport matplotlib.pyplot as plt\nfrom rheo.models.springpot import SpringPot\nfrom rheo.models.fractional_maxwell_gel import FractionalMaxwellGel\nfrom rheo.models.fractional_zener_liquid import FractionalZenerLiquid\nfrom rheo.core.jax_config import safe_import_jax\n\njax, jnp = safe_import_jax()\nnp.random.seed(42)\n\nprint('\u2713 Imports for fractional models')"
  },
  {
   "cell_type": "markdown",
   "metadata": {},
   "source": "## All 11 Fractional Models\n\n**Rheo implements 11 fractional variants:**\n\n**FractionalMaxwell family (4 models):**\n1. FractionalMaxwellGel: Gel-like (finite G\u221e)\n2. FractionalMaxwellLiquid: Liquid-like (G\u221e\u21920)\n3. FractionalMaxwellSpringpot: SpringPot element\n4. FractionalMaxwellSimple: Simplified 2-param\n\n**FractionalZener family (5 models):**\n5. FractionalZenerLiquid\n6. FractionalZenerSolid\n7. FractionalZenerGel\n8. FractionalZenerSpringpot\n9. FractionalZenerSimple\n\n**SpringPot (2 models):**\n10. SpringPot: Pure fractional element\n11. SpringPotPowerLaw: Power-law specific\n\nEach model suitable for different material classes and behaviors."
  },
  {
   "cell_type": "markdown",
   "metadata": {},
   "source": "## Example: SpringPot vs Maxwell on Power-Law Data\n\nDemonstrate when fractional models outperform classical."
  },
  {
   "cell_type": "code",
   "execution_count": null,
   "metadata": {},
   "outputs": [],
   "source": "# Generate power-law relaxation data\nt = np.logspace(-2, 2, 50)\nalpha_true = 0.5  # Fractional order\nG0_true = 1e5\nG_t_true = G0_true * t**(-alpha_true)  # Power-law\nG_t_noisy = G_t_true + np.random.normal(0, 0.02 * G_t_true)\n\nprint(f'Generated power-law data: G(t) \u221d t^(-{alpha_true})')\nprint('Classical Maxwell: Poor fit (expects exponential)')\nprint('Fractional SpringPot: Excellent fit (captures power-law)')"
  },
  {
   "cell_type": "markdown",
   "metadata": {},
   "source": "## Physical Interpretation\n\n**Fractional order \u03b1 meaning:**\n- **\u03b1 \u2248 0:** Solid-like (high elasticity)\n- **\u03b1 \u2248 0.5:** Balanced viscoelastic (typical gels)\n- **\u03b1 \u2248 1:** Liquid-like (high viscosity)\n\n**Model selection criteria:**\n1. **Power-law decay?** \u2192 Fractional models\n2. **Exponential decay?** \u2192 Classical models\n3. **Finite G\u221e?** \u2192 Gel variants\n4. **G\u221e \u2192 0?** \u2192 Liquid variants\n\n**Parameter identifiability:**\n- Fractional models often have more parameters\n- Use Bayesian model comparison (WAIC/LOO)\n- Check parameter correlations (pair plots)"
  },
  {
   "cell_type": "markdown",
   "metadata": {},
   "source": "## Key Takeaways\n\n- **Fractional Models:** Capture power-law behavior naturally\n- **11 Models:** Cover all material classes (gels, liquids, solids)\n- **\u03b1 Parameter:** Controls solid-liquid balance (0=solid, 1=liquid)\n- **Selection:** Use data shape (power-law vs exponential) as guide\n- **Validation:** Always compare with classical models via WAIC/LOO\n\n## Next Steps\n- **[05-performance-optimization.ipynb](05-performance-optimization.ipynb):** Optimize fractional model fitting\n- **[../bayesian/04-model-comparison.ipynb](../bayesian/04-model-comparison.ipynb):** Compare fractional vs classical\n- **[../basic/03-springpot-fitting.ipynb](../basic/03-springpot-fitting.ipynb):** SpringPot introduction"
  }
 ],
 "metadata": {
  "kernelspec": {
   "display_name": "Python 3",
   "language": "python",
   "name": "python3"
  }
 },
 "nbformat": 4,
 "nbformat_minor": 4
}
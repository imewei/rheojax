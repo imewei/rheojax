{
 "cells": [
  {
   "cell_type": "markdown",
   "metadata": {},
   "source": "# Creating Custom Rheological Models\n\nLearn to create custom models by inheriting from BaseModel with automatic Bayesian capabilities.\n\n## Learning Objectives\n- Inherit from BaseModel to create custom rheological model\n- Implement _fit() and _predict() methods\n- Register with ModelRegistry for ecosystem integration\n- Demonstrate automatic Bayesian inference via BayesianMixin\n- Test and validate custom model\n\n## Prerequisites\n- Model fitting basics (Phase 1)\n- Understanding of Zener and Maxwell models\n\n**Estimated Time:** 50-55 minutes"
  },
  {
   "cell_type": "markdown",
   "metadata": {},
   "source": "## Example: Burgers Model (Zener + Maxwell in Series)\n\nImplement 4-parameter Burgers model demonstrating BaseModel inheritance pattern."
  },
  {
   "cell_type": "code",
   "execution_count": null,
   "metadata": {},
   "outputs": [],
   "source": "from rheo.core.base import BaseModel\nfrom rheo.core.parameters import Parameter, ParameterSet\nfrom rheo.core.registry import ModelRegistry\nfrom rheo.core.jax_config import safe_import_jax\nimport numpy as np\n\njax, jnp = safe_import_jax()\n\nprint('\u2713 Imports for custom model development')"
  },
  {
   "cell_type": "markdown",
   "metadata": {},
   "source": "## Burgers Model Implementation"
  },
  {
   "cell_type": "code",
   "execution_count": null,
   "metadata": {},
   "outputs": [],
   "source": "@ModelRegistry.register('burgers')\nclass BurgersModel(BaseModel):\n    '''Burgers model: Zener + Maxwell in series.\n    \n    4 parameters: Ge, Gm1, eta1, eta2\n    G(t) = Ge + Gm1*exp(-t*Gm1/eta1) + (Gm1*eta2/eta1)*t\n    '''\n    \n    def __init__(self):\n        super().__init__()\n        self.parameters = ParameterSet([\n            Parameter('Ge', value=1e4, bounds=(1e2, 1e6), units='Pa'),\n            Parameter('Gm1', value=5e4, bounds=(1e3, 1e7), units='Pa'),\n            Parameter('eta1', value=1e3, bounds=(1e1, 1e5), units='Pa\u00b7s'),\n            Parameter('eta2', value=1e4, bounds=(1e2, 1e6), units='Pa\u00b7s')\n        ])\n    \n    def _predict(self, X, test_mode=None):\n        '''Predict Burgers response.'''\n        Ge = self.parameters.get_value('Ge')\n        Gm1 = self.parameters.get_value('Gm1')\n        eta1 = self.parameters.get_value('eta1')\n        eta2 = self.parameters.get_value('eta2')\n        \n        # Burgers relaxation\n        tau1 = eta1 / Gm1\n        return Ge + Gm1 * jnp.exp(-X / tau1) + (Gm1 * eta2 / eta1) * X\n\nprint('\u2713 Burgers model implemented and registered')"
  },
  {
   "cell_type": "markdown",
   "metadata": {},
   "source": "## Test Custom Model\n\nValidate that custom model fits data correctly."
  },
  {
   "cell_type": "code",
   "execution_count": null,
   "metadata": {},
   "outputs": [],
   "source": "# Generate Burgers data\nt = np.logspace(-2, 2, 50)\nGe, Gm1, eta1, eta2 = 1e4, 5e4, 1e3, 1e4\nG_t_true = Ge + Gm1 * np.exp(-t * Gm1 / eta1) + (Gm1 * eta2 / eta1) * t\nG_t_noisy = G_t_true + np.random.normal(0, 0.02 * G_t_true)\n\n# Fit custom model\nmodel = BurgersModel()\nmodel.fit(t, G_t_noisy)\n\nprint('Fitted Burgers Parameters:')\nfor param in ['Ge', 'Gm1', 'eta1', 'eta2']:\n    print(f'  {param}: {model.parameters.get_value(param):.2e}')"
  },
  {
   "cell_type": "markdown",
   "metadata": {},
   "source": "## Automatic Bayesian Inference\n\nCustom models automatically inherit Bayesian capabilities."
  },
  {
   "cell_type": "code",
   "execution_count": null,
   "metadata": {},
   "outputs": [],
   "source": "# Bayesian inference works automatically!\nresult = model.fit_bayesian(\n    t, G_t_noisy,\n    num_warmup=500,\n    num_samples=1000,\n    num_chains=1\n)\n\nprint('\\nBayesian inference on custom model: \u2713')\nprint('Convergence:')\nfor param, r_hat in result.diagnostics['r_hat'].items():\n    print(f'  {param}: R-hat = {r_hat:.4f}')"
  },
  {
   "cell_type": "markdown",
   "metadata": {},
   "source": "## Key Takeaways\n\n- **BaseModel Inheritance:** Provides full Rheo ecosystem integration\n- **Automatic Bayesian:** BayesianMixin gives free NUTS inference\n- **ModelRegistry:** Makes model available throughout Rheo\n- **Testing:** Always validate with synthetic data\n\n## Next Steps\n- **[04-fractional-models-deep-dive.ipynb](04-fractional-models-deep-dive.ipynb):** Advanced fractional models\n- **[../basic/01-maxwell-fitting.ipynb](../basic/01-maxwell-fitting.ipynb):** Review BaseModel usage"
  }
 ],
 "metadata": {
  "kernelspec": {
   "display_name": "Python 3",
   "language": "python",
   "name": "python3"
  }
 },
 "nbformat": 4,
 "nbformat_minor": 4
}
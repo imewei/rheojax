{
 "cells": [
  {
   "cell_type": "markdown",
   "metadata": {},
   "source": [
    "# Power-Law Model: Shear-Thinning Fluid Fitting\n",
    "\n",
    "Demonstrates Power-Law model fitting to viscosity data showing shear-thinning behavior.\n",
    "\n",
    "## Learning Objectives\n",
    "\n",
    "- Fit Power-Law model to viscosity curves\n",
    "- Understand shear-thinning/thickening behavior\n",
    "- Interpret flow behavior index (n)\n",
    "- Bayesian inference for rheological parameters\n",
    "\n",
    "**Prerequisites:** Basic rheology, complete 01-maxwell-fitting.ipynb\n",
    "\n",
    "**Estimated Time:** 30-35 minutes"
   ]
  },
  {
   "cell_type": "markdown",
   "metadata": {},
   "source": [
    "## Setup"
   ]
  },
  {
   "cell_type": "code",
   "execution_count": null,
   "metadata": {},
   "outputs": [],
   "source": [
    "import numpy as np\n",
    "import matplotlib.pyplot as plt\n",
    "import time\n",
    "\n",
    "from rheo.pipeline.base import Pipeline\n",
    "from rheo.core.data import RheoData\n",
    "from rheo.models.power_law import PowerLaw\n",
    "from rheo.core.jax_config import safe_import_jax, verify_float64\n",
    "\n",
    "jax, jnp = safe_import_jax()\n",
    "verify_float64()\n",
    "print(\"✓ JAX float64 enabled\")\n",
    "\n",
    "np.random.seed(42)\n",
    "plt.rcParams['figure.figsize'] = (10, 6)\n",
    "plt.rcParams['font.size'] = 11"
   ]
  },
  {
   "cell_type": "markdown",
   "metadata": {},
   "source": [
    "## Power-Law Theory\n",
    "\n",
    "The Power-Law (Ostwald-de Waele) model describes non-Newtonian flow:\n",
    "\n",
    "**Constitutive Equation:**\n",
    "$$\\eta(\\dot{\\gamma}) = K \\dot{\\gamma}^{n-1}$$\n",
    "$$\\sigma(\\dot{\\gamma}) = K \\dot{\\gamma}^n$$\n",
    "\n",
    "**Parameters:**\n",
    "- $K$ = consistency index (Pa·s$^n$) - magnitude of viscosity\n",
    "- $n$ = flow behavior index:\n",
    "  - $n < 1$: shear-thinning (most polymers)\n",
    "  - $n = 1$: Newtonian (constant viscosity)\n",
    "  - $n > 1$: shear-thickening (rare)\n",
    "\n",
    "**Applications:** Polymer solutions, ketchup, paints, blood"
   ]
  },
  {
   "cell_type": "code",
   "execution_count": null,
   "metadata": {},
   "outputs": [],
   "source": [
    "# True parameters (shear-thinning)\n",
    "K_true = 5.0   # Pa·s^n\n",
    "n_true = 0.6   # Shear-thinning\n",
    "\n",
    "print(f\"True Parameters:\")\n",
    "print(f\"  K = {K_true:.2f} Pa·s^{n_true}\")\n",
    "print(f\"  n = {n_true:.2f} (shear-thinning)\")\n",
    "\n",
    "# Shear rate array\n",
    "gamma_dot = np.logspace(-1, 3, 40)  # 0.1 to 1000 s⁻¹\n",
    "\n",
    "# True viscosity\n",
    "eta_true = K_true * gamma_dot**(n_true - 1)\n",
    "\n",
    "# Add noise\n",
    "noise_level = 0.02\n",
    "noise = np.random.normal(0, noise_level * eta_true)\n",
    "eta_noisy = eta_true + noise\n",
    "\n",
    "print(f\"\\nData: {len(gamma_dot)} points\")\n",
    "print(f\"Viscosity range: {eta_noisy.min():.3f} - {eta_noisy.max():.3f} Pa·s\")"
   ]
  },
  {
   "cell_type": "code",
   "execution_count": null,
   "metadata": {},
   "outputs": [],
   "source": [
    "# Visualize shear-thinning\n",
    "fig, (ax1, ax2) = plt.subplots(1, 2, figsize=(14, 5))\n",
    "\n",
    "ax1.loglog(gamma_dot, eta_noisy, 'o', alpha=0.7, label='Data')\n",
    "ax1.loglog(gamma_dot, eta_true, '--', linewidth=2, alpha=0.4, label='True')\n",
    "ax1.set_xlabel('Shear Rate γ̇ (s⁻¹)', fontweight='bold')\n",
    "ax1.set_ylabel('Viscosity η (Pa·s)', fontweight='bold')\n",
    "ax1.set_title('Shear-Thinning Behavior', fontweight='bold')\n",
    "ax1.grid(True, alpha=0.3, which='both')\n",
    "ax1.legend()\n",
    "\n",
    "# Log-log slope = n-1\n",
    "log_gd = np.log10(gamma_dot)\n",
    "log_eta = np.log10(eta_noisy)\n",
    "slope = np.polyfit(log_gd[10:30], log_eta[10:30], 1)[0]\n",
    "ax2.plot(log_gd, log_eta, 'o', alpha=0.7, label='Data')\n",
    "ax2.plot(log_gd, np.polyval([slope, np.polyfit(log_gd[10:30], log_eta[10:30], 1)[1]], log_gd), '--', linewidth=2, label=f'Slope={slope:.3f}')\n",
    "ax2.set_xlabel('log₁₀(γ̇)', fontweight='bold')\n",
    "ax2.set_ylabel('log₁₀(η)', fontweight='bold')\n",
    "ax2.set_title(f'Power-Law: n-1 ≈ {slope:.3f}', fontweight='bold')\n",
    "ax2.grid(True, alpha=0.3)\n",
    "ax2.legend()\n",
    "\n",
    "plt.tight_layout()\n",
    "plt.show()\n",
    "\n",
    "print(f\"\\nEstimated n from slope: {slope+1:.3f} (true: {n_true:.3f})\")"
   ]
  },
  {
   "cell_type": "markdown",
   "metadata": {},
   "source": [
    "## Fitting (Log-Log Linear Regression)"
   ]
  },
  {
   "cell_type": "code",
   "execution_count": null,
   "metadata": {},
   "outputs": [],
   "source": [
    "model = PowerLaw()\n",
    "model.fit(gamma_dot, eta_noisy)\n",
    "\n",
    "K_fit = model.parameters.get_value('K')\n",
    "n_fit = model.parameters.get_value('n')\n",
    "\n",
    "print(\"=\"*60)\n",
    "print(\"FITTED PARAMETERS\")\n",
    "print(\"=\"*60)\n",
    "print(f\"K = {K_fit:.3f} Pa·s^n (true: {K_true:.3f})\")\n",
    "print(f\"n = {n_fit:.4f} (true: {n_true:.4f})\")\n",
    "print(f\"\\nErrors: K {abs(K_fit-K_true)/K_true*100:.2f}%, n {abs(n_fit-n_true)/n_true*100:.2f}%\")\n",
    "print(f\"\\nBehavior: {'Shear-thinning' if n_fit < 1 else 'Shear-thickening' if n_fit > 1 else 'Newtonian'}\")\n",
    "print(\"=\"*60)"
   ]
  },
  {
   "cell_type": "code",
   "execution_count": null,
   "metadata": {},
   "outputs": [],
   "source": [
    "# Visualize fit\n",
    "eta_pred = model.predict(gamma_dot)\n",
    "\n",
    "plt.figure(figsize=(10, 6))\n",
    "plt.loglog(gamma_dot, eta_noisy, 'o', alpha=0.7, label='Data')\n",
    "plt.loglog(gamma_dot, eta_true, '--', linewidth=2, alpha=0.4, label='True')\n",
    "plt.loglog(gamma_dot, eta_pred, '-', linewidth=2.5, label='Fitted')\n",
    "plt.xlabel('Shear Rate γ̇ (s⁻¹)', fontweight='bold')\n",
    "plt.ylabel('Viscosity η (Pa·s)', fontweight='bold')\n",
    "plt.title(f'Power-Law Fit (n={n_fit:.3f})', fontweight='bold')\n",
    "plt.grid(True, alpha=0.3, which='both')\n",
    "plt.legend()\n",
    "plt.tight_layout()\n",
    "plt.show()\n",
    "\n",
    "r2 = 1 - np.sum((eta_noisy - eta_pred)**2) / np.sum((eta_noisy - np.mean(eta_noisy))**2)\n",
    "print(f\"R² = {r2:.6f}\")"
   ]
  },
  {
   "cell_type": "markdown",
   "metadata": {},
   "source": [
    "## Bayesian Inference"
   ]
  },
  {
   "cell_type": "code",
   "execution_count": null,
   "metadata": {},
   "outputs": [],
   "source": [
    "print(\"Running Bayesian inference...\\n\")\n",
    "\n",
    "result = model.fit_bayesian(\n",
    "    gamma_dot, eta_noisy,\n",
    "    num_warmup=1000,\n",
    "    num_samples=2000,\n",
    "    num_chains=1,\n",
    "    initial_values={'K': K_fit, 'n': n_fit}\n",
    ")\n",
    "\n",
    "print(\"Complete!\")"
   ]
  },
  {
   "cell_type": "code",
   "execution_count": null,
   "metadata": {},
   "outputs": [],
   "source": [
    "summary = result.summary\n",
    "diagnostics = result.diagnostics\n",
    "credible = model.get_credible_intervals(result.posterior_samples, 0.95)\n",
    "\n",
    "print(\"=\"*60)\n",
    "print(\"POSTERIOR SUMMARY\")\n",
    "print(\"=\"*60)\n",
    "print(f\"\\nK = {summary['K']['mean']:.3f} ± {summary['K']['std']:.3f} Pa·s^n\")\n",
    "print(f\"n = {summary['n']['mean']:.4f} ± {summary['n']['std']:.4f}\")\n",
    "print(f\"\\n95% CI K: [{credible['K'][0]:.3f}, {credible['K'][1]:.3f}]\")\n",
    "print(f\"95% CI n: [{credible['n'][0]:.4f}, {credible['n'][1]:.4f}]\")\n",
    "print(f\"\\nR-hat: K={diagnostics['r_hat']['K']:.4f}, n={diagnostics['r_hat']['n']:.4f}\")\n",
    "print(f\"ESS: K={diagnostics['ess']['K']:.0f}, n={diagnostics['ess']['n']:.0f}\")\n",
    "print(\"=\"*60)\n",
    "\n",
    "# Check if credible interval confirms shear-thinning\n",
    "if credible['n'][1] < 1:\n",
    "    print(\"\\n✓ Shear-thinning confirmed (95% CI n < 1)\")\n",
    "elif credible['n'][0] > 1:\n",
    "    print(\"\\n✓ Shear-thickening confirmed (95% CI n > 1)\")\n",
    "else:\n",
    "    print(\"\\n⚠ Behavior uncertain (95% CI includes n=1)\")"
   ]
  },
  {
   "cell_type": "markdown",
   "metadata": {},
   "source": [
    "## Key Takeaways\n",
    "\n",
    "1. **Flow Behavior Index n:**\n",
    "   - n < 1: Viscosity decreases with shear rate (shear-thinning)\n",
    "   - Most polymer solutions are shear-thinning (0.2 < n < 0.8)\n",
    "\n",
    "2. **Consistency Index K:**\n",
    "   - Sets overall viscosity magnitude\n",
    "   - Temperature dependent (higher T → lower K)\n",
    "\n",
    "3. **Bayesian Uncertainty:**\n",
    "   - Quantifies uncertainty in flow behavior\n",
    "   - Can confirm shear-thinning/thickening statistically\n",
    "\n",
    "## Next Steps\n",
    "\n",
    "- **[04-bingham-fitting.ipynb](04-bingham-fitting.ipynb)**: Yield stress fluids\n",
    "- **[transforms/02-mastercurve-generation.ipynb](../transforms/02-mastercurve-generation.ipynb)**: Temperature effects\n",
    "- **[bayesian/04-model-comparison.ipynb](../bayesian/04-model-comparison.ipynb)**: Compare flow models"
   ]
  },
  {
   "cell_type": "code",
   "execution_count": null,
   "metadata": {},
   "outputs": [],
   "source": [
    "import sys, rheo\n",
    "print(f\"Python: {sys.version}\")\n",
    "print(f\"Rheo: {rheo.__version__}\")"
   ]
  }
 ],
 "metadata": {
  "kernelspec": {
   "display_name": "Python 3",
   "language": "python",
   "name": "python3"
  },
  "language_info": {
   "name": "python",
   "version": "3.12.0"
  }
 },
 "nbformat": 4,
 "nbformat_minor": 4
}

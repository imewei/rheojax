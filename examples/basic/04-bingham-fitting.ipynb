{
 "cells": [
  {
   "cell_type": "markdown",
   "metadata": {},
   "source": [
    "# Bingham Model: Yield Stress Fluid Fitting\n",
    "\n",
    "Demonstrates Bingham plastic model fitting to flow curve data with yield stress detection.\n",
    "\n",
    "## Learning Objectives\n",
    "\n",
    "- Fit Bingham model to flow curve data (\u03c3 vs \u03b3\u0307)\n",
    "- Detect and interpret yield stress\n",
    "- Understand viscoplastic behavior\n",
    "- Bayesian inference for yield stress uncertainty\n",
    "\n",
    "**Prerequisites:** Basic rheology, complete 01-maxwell-fitting.ipynb\n",
    "\n",
    "**Estimated Time:** 30-35 minutes"
   ]
  },
  {
   "cell_type": "markdown",
   "metadata": {},
   "source": [
    "## Setup"
   ]
  },
  {
   "cell_type": "code",
   "execution_count": null,
   "metadata": {},
   "outputs": [],
   "source": [
    "import numpy as np\n",
    "import matplotlib.pyplot as plt\n",
    "import time\n",
    "\n",
    "from rheojax.pipeline.base import Pipeline\n",
    "from rheojax.core.data import RheoData\n",
    "from rheojax.models.bingham import Bingham\n",
    "from rheojax.core.jax_config import safe_import_jax, verify_float64\n",
    "\n",
    "jax, jnp = safe_import_jax()\n",
    "verify_float64()\n",
    "print(\"\u2713 JAX float64 enabled\")\n",
    "\n",
    "np.random.seed(42)\n",
    "plt.rcParams['figure.figsize'] = (10, 6)\n",
    "plt.rcParams['font.size'] = 11"
   ]
  },
  {
   "cell_type": "markdown",
   "metadata": {},
   "source": [
    "## Bingham Theory\n",
    "\n",
    "The Bingham model describes materials requiring minimum stress (yield stress) to flow:\n",
    "\n",
    "**Constitutive Equation:**\n",
    "$$\\sigma(\\dot{\\gamma}) = \\sigma_y + \\eta_p \\dot{\\gamma} \\quad \\text{for } \\sigma > \\sigma_y$$\n",
    "$$\\dot{\\gamma} = 0 \\quad \\text{for } \\sigma \\leq \\sigma_y$$\n",
    "\n",
    "**Parameters:**\n",
    "- $\\sigma_y$ = yield stress (Pa) - minimum stress to initiate flow\n",
    "- $\\eta_p$ = plastic viscosity (Pa\u00b7s) - constant viscosity above yield\n",
    "\n",
    "**Applications:** Toothpaste, mayonnaise, drilling mud, concrete"
   ]
  },
  {
   "cell_type": "code",
   "execution_count": null,
   "metadata": {},
   "outputs": [],
   "source": [
    "# True parameters\n",
    "sigma_y_true = 50.0  # Pa\n",
    "eta_p_true = 1.0     # Pa\u00b7s\n",
    "\n",
    "print(f\"True Parameters:\")\n",
    "print(f\"  \u03c3_y  = {sigma_y_true:.1f} Pa\")\n",
    "print(f\"  \u03b7_p  = {eta_p_true:.2f} Pa\u00b7s\")\n",
    "\n",
    "# Shear rate array\n",
    "gamma_dot = np.logspace(-1, 2, 40)  # 0.1 to 100 s\u207b\u00b9\n",
    "\n",
    "# True stress\n",
    "sigma_true = sigma_y_true + eta_p_true * gamma_dot\n",
    "\n",
    "# Add noise\n",
    "noise_level = 0.02\n",
    "noise = np.random.normal(0, noise_level * sigma_true)\n",
    "sigma_noisy = sigma_true + noise\n",
    "\n",
    "print(f\"\\nData: {len(gamma_dot)} points, noise {noise_level*100:.1f}%\")"
   ]
  },
  {
   "cell_type": "code",
   "execution_count": null,
   "metadata": {},
   "outputs": [],
   "source": [
    "# Visualize flow curve\n",
    "fig, (ax1, ax2) = plt.subplots(1, 2, figsize=(14, 5))\n",
    "\n",
    "ax1.plot(gamma_dot, sigma_noisy, 'o', alpha=0.7, label='Data')\n",
    "ax1.plot(gamma_dot, sigma_true, '--', linewidth=2, alpha=0.4, label='True')\n",
    "ax1.axhline(sigma_y_true, color='red', linestyle=':', linewidth=2, label=f'Yield \u03c3_y={sigma_y_true} Pa')\n",
    "ax1.set_xlabel('Shear Rate \u03b3\u0307 (s\u207b\u00b9)', fontweight='bold')\n",
    "ax1.set_ylabel('Shear Stress \u03c3 (Pa)', fontweight='bold')\n",
    "ax1.set_title('Flow Curve', fontweight='bold')\n",
    "ax1.grid(True, alpha=0.3)\n",
    "ax1.legend()\n",
    "\n",
    "# Viscosity\n",
    "eta_apparent = sigma_noisy / gamma_dot\n",
    "ax2.semilogx(gamma_dot, eta_apparent, 'o', alpha=0.7, label='Apparent \u03b7')\n",
    "ax2.axhline(eta_p_true, color='red', linestyle=':', linewidth=2, label=f'Plastic \u03b7_p={eta_p_true} Pa\u00b7s')\n",
    "ax2.set_xlabel('Shear Rate \u03b3\u0307 (s\u207b\u00b9)', fontweight='bold')\n",
    "ax2.set_ylabel('Apparent Viscosity (Pa\u00b7s)', fontweight='bold')\n",
    "ax2.set_title('Shear-Thinning Due to Yield Stress', fontweight='bold')\n",
    "ax2.grid(True, alpha=0.3)\n",
    "ax2.legend()\n",
    "\n",
    "plt.tight_layout()\n",
    "plt.show()"
   ]
  },
  {
   "cell_type": "markdown",
   "metadata": {},
   "source": [
    "## Fitting (Linear Regression)\n",
    "\n",
    "Bingham model is linear: \u03c3 = \u03c3_y + \u03b7_p\u00b7\u03b3\u0307, so we can use simple linear regression."
   ]
  },
  {
   "cell_type": "code",
   "execution_count": null,
   "metadata": {},
   "outputs": [],
   "source": [
    "model = Bingham()\n",
    "model.fit(gamma_dot, sigma_noisy)\n",
    "\n",
    "sigma_y_fit = model.parameters.get_value('sigma_y')\n",
    "eta_p_fit = model.parameters.get_value('eta_p')\n",
    "\n",
    "print(\"=\"*60)\n",
    "print(\"FITTED PARAMETERS\")\n",
    "print(\"=\"*60)\n",
    "print(f\"\u03c3_y = {sigma_y_fit:.2f} Pa (true: {sigma_y_true:.2f})\")\n",
    "print(f\"\u03b7_p = {eta_p_fit:.3f} Pa\u00b7s (true: {eta_p_true:.3f})\")\n",
    "print(f\"\\nErrors: \u03c3_y {abs(sigma_y_fit-sigma_y_true)/sigma_y_true*100:.2f}%, \u03b7_p {abs(eta_p_fit-eta_p_true)/eta_p_true*100:.2f}%\")\n",
    "print(\"=\"*60)"
   ]
  },
  {
   "cell_type": "code",
   "execution_count": null,
   "metadata": {},
   "outputs": [],
   "source": [
    "# Visualize fit\n",
    "sigma_pred = model.predict(gamma_dot)\n",
    "\n",
    "plt.figure(figsize=(10, 6))\n",
    "plt.plot(gamma_dot, sigma_noisy, 'o', alpha=0.7, label='Data')\n",
    "plt.plot(gamma_dot, sigma_true, '--', linewidth=2, alpha=0.4, label='True')\n",
    "plt.plot(gamma_dot, sigma_pred, '-', linewidth=2.5, label='Fitted')\n",
    "plt.axhline(sigma_y_fit, color='red', linestyle=':', linewidth=2, label=f'Yield \u03c3_y={sigma_y_fit:.1f} Pa')\n",
    "plt.xlabel('Shear Rate \u03b3\u0307 (s\u207b\u00b9)', fontweight='bold')\n",
    "plt.ylabel('Shear Stress \u03c3 (Pa)', fontweight='bold')\n",
    "plt.title('Bingham Model Fit', fontweight='bold')\n",
    "plt.grid(True, alpha=0.3)\n",
    "plt.legend()\n",
    "plt.tight_layout()\n",
    "plt.show()\n",
    "\n",
    "r2 = 1 - np.sum((sigma_noisy - sigma_pred)**2) / np.sum((sigma_noisy - np.mean(sigma_noisy))**2)\n",
    "print(f\"R\u00b2 = {r2:.6f}\")"
   ]
  },
  {
   "cell_type": "markdown",
   "metadata": {},
   "source": [
    "## Bayesian Inference\n",
    "\n",
    "Quantify yield stress uncertainty - critical for process design!"
   ]
  },
  {
   "cell_type": "code",
   "execution_count": null,
   "metadata": {},
   "outputs": [],
   "source": [
    "print(\"Running Bayesian inference...\\n\")\n",
    "\n",
    "result = model.fit_bayesian(\n",
    "    gamma_dot, sigma_noisy,\n",
    "    num_warmup=1000,\n",
    "    num_samples=2000,\n",
    "    num_chains=1,\n",
    "    initial_values={\n",
    "        'sigma_y': sigma_y_fit,\n",
    "        'eta_p': eta_p_fit\n",
    "    }\n",
    ")\n",
    "\n",
    "print(\"Complete!\")"
   ]
  },
  {
   "cell_type": "code",
   "execution_count": null,
   "metadata": {},
   "outputs": [],
   "source": [
    "summary = result.summary\n",
    "diagnostics = result.diagnostics\n",
    "credible = model.get_credible_intervals(result.posterior_samples, 0.95)\n",
    "\n",
    "print(\"=\"*60)\n",
    "print(\"POSTERIOR SUMMARY\")\n",
    "print(\"=\"*60)\n",
    "print(f\"\\n\u03c3_y = {summary['sigma_y']['mean']:.2f} \u00b1 {summary['sigma_y']['std']:.2f} Pa\")\n",
    "print(f\"\u03b7_p = {summary['eta_p']['mean']:.3f} \u00b1 {summary['eta_p']['std']:.3f} Pa\u00b7s\")\n",
    "print(f\"\\n95% CI \u03c3_y: [{credible['sigma_y'][0]:.2f}, {credible['sigma_y'][1]:.2f}] Pa\")\n",
    "print(f\"95% CI \u03b7_p: [{credible['eta_p'][0]:.3f}, {credible['eta_p'][1]:.3f}] Pa\u00b7s\")\n",
    "print(f\"\\nR-hat: \u03c3_y={diagnostics['r_hat']['sigma_y']:.4f}, \u03b7_p={diagnostics['r_hat']['eta_p']:.4f}\")\n",
    "print(f\"ESS: \u03c3_y={diagnostics['ess']['sigma_y']:.0f}, \u03b7_p={diagnostics['ess']['eta_p']:.0f}\")\n",
    "print(\"=\"*60)\n",
    "\n",
    "print(f\"\\n\u2713 Yield stress uncertainty: \u00b1{summary['sigma_y']['std']/summary['sigma_y']['mean']*100:.1f}%\")"
   ]
  },
  {
   "cell_type": "markdown",
   "metadata": {},
   "source": [
    "## Key Takeaways\n",
    "\n",
    "1. **Yield Stress:** Minimum stress for flow - critical for pumping/processing\n",
    "2. **Linear Above Yield:** Newtonian behavior once flowing (\u03b7_p constant)\n",
    "3. **Bayesian Uncertainty:** Quantifies yield stress uncertainty for safety margins\n",
    "\n",
    "## Next Steps\n",
    "\n",
    "- **[05-power-law-fitting.ipynb](05-power-law-fitting.ipynb)**: Shear-thinning without yield stress\n",
    "- **[advanced/01-multi-technique-fitting.ipynb](../advanced/01-multi-technique-fitting.ipynb)**: Combined fitting"
   ]
  },
  {
   "cell_type": "code",
   "execution_count": null,
   "metadata": {},
   "outputs": [],
   "source": [
    "import sys\n",
    "import rheojax\n",
    "print(f\"Python: {sys.version}\")\n",
    "print(f\"Rheo: {rheojax.__version__}\")"
   ]
  }
 ],
 "metadata": {
  "kernelspec": {
   "display_name": "Python 3",
   "language": "python",
   "name": "python3"
  },
  "language_info": {
   "name": "python",
   "version": "3.12.0"
  }
 },
 "nbformat": 4,
 "nbformat_minor": 4
}
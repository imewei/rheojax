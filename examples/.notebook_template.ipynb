{
 "cells": [
  {
   "cell_type": "markdown",
   "metadata": {},
   "source": [
    "# [Notebook Title]\n",
    "\n",
    "This notebook demonstrates [core concept/workflow].\n",
    "\n",
    "## Learning Objectives\n",
    "\n",
    "After completing this notebook, you will be able to:\n",
    "- [Objective 1]\n",
    "- [Objective 2]\n",
    "- [Objective 3]\n",
    "\n",
    "## Prerequisites\n",
    "\n",
    "[List prior notebooks or concepts required]\n",
    "\n",
    "**Estimated Time:** [15-45 minutes]"
   ]
  },
  {
   "cell_type": "markdown",
   "metadata": {},
   "source": [
    "## Setup and Imports\n",
    "\n",
    "We start by importing necessary libraries and verifying float64 precision."
   ]
  },
  {
   "cell_type": "code",
   "execution_count": null,
   "metadata": {},
   "outputs": [],
   "source": [
    "# Standard scientific computing imports\n",
    "import numpy as np\n",
    "import matplotlib.pyplot as plt\n",
    "\n",
    "# Rheo imports - always explicit\n",
    "from rheo.pipeline.base import Pipeline\n",
    "from rheo.core.data import RheoData\n",
    "from rheo.core.jax_config import safe_import_jax\n",
    "\n",
    "# Safe JAX import - REQUIRED for all notebooks using JAX\n",
    "# This pattern ensures float64 precision enforcement throughout\n",
    "jax, jnp = safe_import_jax()\n",
    "\n",
    "# Set reproducible random seed\n",
    "np.random.seed(42)"
   ]
  },
  {
   "cell_type": "markdown",
   "metadata": {},
   "source": [
    "## Data Loading or Generation\n",
    "\n",
    "[Describe data source and loading approach]\n",
    "\n",
    "Use synthetic data for pedagogical clarity OR load example datasets from `examples/data/` OR demonstrate reading real instrument files (TRIOS, Anton Paar)."
   ]
  },
  {
   "cell_type": "code",
   "execution_count": null,
   "metadata": {},
   "outputs": [],
   "source": [
    "# Load or generate data\n",
    "# Example: synthetic data generation\n",
    "# x = np.linspace(0, 10, 50)\n",
    "# y = some_function(x) + noise\n",
    "\n",
    "# Visualize raw data before analysis\n",
    "# plt.figure(figsize=(10, 6))\n",
    "# plt.plot(x, y, 'o', label='Data')\n",
    "# plt.xlabel('...')\n",
    "# plt.ylabel('...')\n",
    "# plt.legend()\n",
    "# plt.show()"
   ]
  },
  {
   "cell_type": "markdown",
   "metadata": {},
   "source": [
    "## Core Analysis Workflow\n",
    "\n",
    "[Describe the main analysis approach]\n",
    "\n",
    "- Use Pipeline API for standard workflows\n",
    "- Use Modular API for custom workflows\n",
    "- Use Core API for advanced/performance-critical code\n",
    "- Include timing benchmarks with actual execution"
   ]
  },
  {
   "cell_type": "code",
   "execution_count": null,
   "metadata": {},
   "outputs": [],
   "source": [
    "# Core analysis implementation\n",
    "# Example: Pipeline API workflow\n",
    "# result = (Pipeline()\n",
    "#     .load_data(data)\n",
    "#     .fit('model_name')\n",
    "#     .plot()\n",
    "#     .save('results.hdf5'))"
   ]
  },
  {
   "cell_type": "markdown",
   "metadata": {},
   "source": [
    "## Results Visualization\n",
    "\n",
    "Publication-quality plots with proper labels and units."
   ]
  },
  {
   "cell_type": "code",
   "execution_count": null,
   "metadata": {},
   "outputs": [],
   "source": [
    "# Visualization cells\n",
    "# Example: data vs fitted prediction\n",
    "# plt.figure(figsize=(12, 5))\n",
    "# plt.subplot(1, 2, 1)\n",
    "# plt.plot(x, y, 'o', label='Data')\n",
    "# plt.plot(x, prediction, '-', label='Fit')\n",
    "# plt.xlabel('Time (s)')\n",
    "# plt.ylabel('Stress (Pa)')\n",
    "# plt.legend()\n",
    "# \n",
    "# plt.subplot(1, 2, 2)\n",
    "# plt.plot(x, residuals, 'o')\n",
    "# plt.xlabel('Time (s)')\n",
    "# plt.ylabel('Residuals (Pa)')\n",
    "# plt.show()"
   ]
  },
  {
   "cell_type": "markdown",
   "metadata": {},
   "source": [
    "## Bayesian Inference Section\n",
    "\n",
    "[For model fitting notebooks only]\n",
    "\n",
    "Bayesian inference provides uncertainty quantification through posterior distributions. We use a two-stage workflow:\n",
    "1. **NLSQ optimization** (fast point estimate)\n",
    "2. **NUTS sampling** (warm-started from NLSQ for faster convergence)"
   ]
  },
  {
   "cell_type": "code",
   "execution_count": null,
   "metadata": {},
   "outputs": [],
   "source": [
    "# Bayesian inference with warm-start\n",
    "# from rheo.pipeline.bayesian import BayesianPipeline\n",
    "\n",
    "# pipeline_bayes = BayesianPipeline()\n",
    "# (pipeline_bayes\n",
    "#     .load_data(data)\n",
    "#     .fit_nlsq('model_name')  # Fast point estimate\n",
    "#     .fit_bayesian(num_samples=2000, num_warmup=1000)  # NUTS with warm-start\n",
    "#     .plot_pair(divergences=True)  # Parameter correlations\n",
    "#     .plot_forest(hdi_prob=0.95)  # Credible intervals\n",
    "#     .plot_energy()  # NUTS energy diagnostic\n",
    "#     .plot_autocorr()  # Mixing diagnostic\n",
    "#     .plot_rank()  # Convergence diagnostic\n",
    "#     .plot_ess(kind='local'))  # Effective sample size"
   ]
  },
  {
   "cell_type": "markdown",
   "metadata": {},
   "source": [
    "### Convergence Diagnostics\n",
    "\n",
    "Check MCMC convergence criteria:\n",
    "- **R-hat < 1.01**: All parameters converged across chains\n",
    "- **ESS > 400**: Sufficient effective sample size for reliable estimates\n",
    "- **Divergences < 1%**: NUTS sampler well-behaved"
   ]
  },
  {
   "cell_type": "code",
   "execution_count": null,
   "metadata": {},
   "outputs": [],
   "source": [
    "# diagnostics = pipeline_bayes.get_diagnostics()\n",
    "# print(f\"R-hat: {diagnostics['r_hat']}\")\n",
    "# print(f\"ESS: {diagnostics['ess']}\")\n",
    "# print(f\"Divergences: {diagnostics['divergence_rate']:.2%}\")"
   ]
  },
  {
   "cell_type": "markdown",
   "metadata": {},
   "source": [
    "## Interpretation and Insights\n",
    "\n",
    "[Explain physical meaning of results]\n",
    "\n",
    "- Physical meaning of fitted parameters\n",
    "- Model limitations and applicability\n",
    "- Comparison to theoretical expectations\n",
    "- Practical implications for material characterization"
   ]
  },
  {
   "cell_type": "code",
   "execution_count": null,
   "metadata": {},
   "outputs": [],
   "source": [
    "# Interpretation code\n",
    "# Example: print parameter values with units and meaning"
   ]
  },
  {
   "cell_type": "markdown",
   "metadata": {},
   "source": [
    "## Key Takeaways\n",
    "\n",
    "- **[Main Concept 1]:** [Brief explanation]\n",
    "- **[Main Concept 2]:** [Brief explanation]\n",
    "- **When to Use:** [Applicability guidance]\n",
    "- **Common Pitfalls:** [Warnings]\n",
    "\n",
    "## Next Steps\n",
    "\n",
    "- Explore [related notebook 1] for [topic]\n",
    "- Try [related notebook 2] for [topic]\n",
    "- Advance to [advanced notebook] for [topic]"
   ]
  }
 ],
 "metadata": {
  "kernelspec": {
   "display_name": "Python 3",
   "language": "python",
   "name": "python3"
  },
  "language_info": {
   "codemirror_mode": {
    "name": "ipython",
    "version": 3
   },
   "file_extension": ".py",
   "mimetype": "text/x-python",
   "name": "python",
   "nbconvert_exporter": "python",
   "pygments_lexer": "ipython3",
   "version": "3.12.0"
  }
 },
 "nbformat": 4,
 "nbformat_minor": 4
}

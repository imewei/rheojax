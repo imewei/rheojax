{
 "cells": [
  {
   "cell_type": "markdown",
   "metadata": {},
   "source": [
    "# Basic Model Fitting with rheo\n",
    "\n",
    "This notebook demonstrates the basic workflow for fitting rheological models to experimental data using the rheo package.\n",
    "\n",
    "We will:\n",
    "1. Generate synthetic relaxation data\n",
    "2. Fit three classical models (Maxwell, Zener, SpringPot)\n",
    "3. Compare the fits visually\n",
    "4. Display and interpret fitted parameters"
   ]
  },
  {
   "cell_type": "markdown",
   "metadata": {},
   "source": [
    "## Setup and Imports"
   ]
  },
  {
   "cell_type": "code",
   "execution_count": null,
   "metadata": {},
   "outputs": [],
   "source": [
    "import numpy as np\n",
    "import matplotlib.pyplot as plt\n",
    "from rheo.pipeline import Pipeline\n",
    "from rheo.core.data import RheoData\n",
    "\n",
    "# Set random seed for reproducibility\n",
    "np.random.seed(42)"
   ]
  },
  {
   "cell_type": "markdown",
   "metadata": {},
   "source": [
    "## Generate Synthetic Relaxation Data\n",
    "\n",
    "We'll create synthetic stress relaxation data that resembles a viscoelastic polymer response.\n",
    "The data follows a stretched exponential decay with added noise."
   ]
  },
  {
   "cell_type": "code",
   "execution_count": null,
   "metadata": {},
   "outputs": [],
   "source": [
    "# Generate time vector (logarithmic spacing)\n",
    "time = np.logspace(-2, 3, 50)  # 0.01 to 1000 seconds\n",
    "\n",
    "# Generate synthetic stress relaxation data\n",
    "# Model: G(t) = G0 * exp(-(t/tau)^alpha) + Ge\n",
    "G0 = 1e6  # Initial modulus (Pa)\n",
    "tau = 10.0  # Relaxation time (s)\n",
    "alpha = 0.7  # Stretched exponential parameter\n",
    "Ge = 1e4  # Equilibrium modulus (Pa)\n",
    "\n",
    "stress = G0 * np.exp(-(time / tau)**alpha) + Ge\n",
    "\n",
    "# Add realistic noise (5% relative error)\n",
    "noise_level = 0.05\n",
    "stress_noisy = stress * (1 + noise_level * np.random.randn(len(stress)))\n",
    "\n",
    "# Create RheoData object\n",
    "data = RheoData(\n",
    "    x=time,\n",
    "    y=stress_noisy,\n",
    "    x_units='s',\n",
    "    y_units='Pa',\n",
    "    domain='time',\n",
    "    test_mode='relaxation'\n",
    ")\n",
    "\n",
    "print(f\"Generated {len(time)} data points from {time[0]:.2e} to {time[-1]:.2e} seconds\")\n",
    "print(f\"Stress range: {stress_noisy.min():.2e} to {stress_noisy.max():.2e} Pa\")"
   ]
  },
  {
   "cell_type": "markdown",
   "metadata": {},
   "source": [
    "## Visualize Raw Data"
   ]
  },
  {
   "cell_type": "code",
   "execution_count": null,
   "metadata": {},
   "outputs": [],
   "source": [
    "plt.figure(figsize=(8, 5))\n",
    "plt.loglog(time, stress_noisy, 'o', label='Experimental Data', alpha=0.6)\n",
    "plt.loglog(time, stress, '--', label='True Model', color='gray', linewidth=2)\n",
    "plt.xlabel('Time (s)', fontsize=12)\n",
    "plt.ylabel('Stress Modulus G(t) (Pa)', fontsize=12)\n",
    "plt.title('Synthetic Stress Relaxation Data', fontsize=14)\n",
    "plt.legend()\n",
    "plt.grid(True, alpha=0.3)\n",
    "plt.tight_layout()\n",
    "plt.show()"
   ]
  },
  {
   "cell_type": "markdown",
   "metadata": {},
   "source": [
    "## Fit Three Classical Models\n",
    "\n",
    "### 1. Maxwell Model\n",
    "\n",
    "The Maxwell model represents a spring and dashpot in series:\n",
    "$$G(t) = G_0 \\exp(-t/\\tau)$$\n",
    "\n",
    "where $G_0$ is the initial modulus and $\\tau = \\eta/G_0$ is the relaxation time."
   ]
  },
  {
   "cell_type": "code",
   "execution_count": null,
   "metadata": {},
   "outputs": [],
   "source": [
    "# Create pipeline and fit Maxwell model\n",
    "pipeline_maxwell = Pipeline()\n",
    "pipeline_maxwell.load_data(data)\n",
    "pipeline_maxwell.fit('maxwell')\n",
    "\n",
    "# Get fitted parameters\n",
    "maxwell_params = pipeline_maxwell.get_fitted_parameters()\n",
    "print(\"\\nMaxwell Model Parameters:\")\n",
    "for name, param in maxwell_params.items():\n",
    "    print(f\"  {name}: {param.value:.3e} {param.units}\")\n",
    "\n",
    "# Get predictions\n",
    "maxwell_pred = pipeline_maxwell.predict(data)"
   ]
  },
  {
   "cell_type": "markdown",
   "metadata": {},
   "source": [
    "### 2. Zener Model (Standard Linear Solid)\n",
    "\n",
    "The Zener model (also called Standard Linear Solid) has two moduli and one relaxation time:\n",
    "$$G(t) = G_e + G_m \\exp(-t/\\tau)$$\n",
    "\n",
    "This model includes an equilibrium modulus $G_e$, making it more suitable for materials that don't fully relax."
   ]
  },
  {
   "cell_type": "code",
   "execution_count": null,
   "metadata": {},
   "outputs": [],
   "source": [
    "# Fit Zener model\n",
    "pipeline_zener = Pipeline()\n",
    "pipeline_zener.load_data(data)\n",
    "pipeline_zener.fit('zener')\n",
    "\n",
    "# Get fitted parameters\n",
    "zener_params = pipeline_zener.get_fitted_parameters()\n",
    "print(\"\\nZener Model Parameters:\")\n",
    "for name, param in zener_params.items():\n",
    "    print(f\"  {name}: {param.value:.3e} {param.units}\")\n",
    "\n",
    "# Get predictions\n",
    "zener_pred = pipeline_zener.predict(data)"
   ]
  },
  {
   "cell_type": "markdown",
   "metadata": {},
   "source": [
    "### 3. SpringPot Model\n",
    "\n",
    "The SpringPot model is a fractional viscoelastic element:\n",
    "$$G(t) = C_{\\alpha} \\frac{t^{-\\alpha}}{\\Gamma(1-\\alpha)}$$\n",
    "\n",
    "where $\\alpha$ is the fractional order (0 = spring, 1 = dashpot), and $C_{\\alpha}$ is the quasi-property."
   ]
  },
  {
   "cell_type": "code",
   "execution_count": null,
   "metadata": {},
   "outputs": [],
   "source": [
    "# Fit SpringPot model\n",
    "pipeline_springpot = Pipeline()\n",
    "pipeline_springpot.load_data(data)\n",
    "pipeline_springpot.fit('springpot')\n",
    "\n",
    "# Get fitted parameters\n",
    "springpot_params = pipeline_springpot.get_fitted_parameters()\n",
    "print(\"\\nSpringPot Model Parameters:\")\n",
    "for name, param in springpot_params.items():\n",
    "    print(f\"  {name}: {param.value:.3e} {param.units if param.units else 'dimensionless'}\")\n",
    "\n",
    "# Get predictions\n",
    "springpot_pred = pipeline_springpot.predict(data)"
   ]
  },
  {
   "cell_type": "markdown",
   "metadata": {},
   "source": [
    "## Compare Fits Visually"
   ]
  },
  {
   "cell_type": "code",
   "execution_count": null,
   "metadata": {},
   "outputs": [],
   "source": [
    "plt.figure(figsize=(10, 6))\n",
    "\n",
    "# Plot data and fits\n",
    "plt.loglog(time, stress_noisy, 'o', label='Experimental Data', \n",
    "           color='black', markersize=6, alpha=0.5)\n",
    "plt.loglog(time, maxwell_pred, '-', label='Maxwell', linewidth=2)\n",
    "plt.loglog(time, zener_pred, '-', label='Zener', linewidth=2)\n",
    "plt.loglog(time, springpot_pred, '-', label='SpringPot', linewidth=2)\n",
    "\n",
    "plt.xlabel('Time (s)', fontsize=12)\n",
    "plt.ylabel('Stress Modulus G(t) (Pa)', fontsize=12)\n",
    "plt.title('Model Comparison: Stress Relaxation Fits', fontsize=14)\n",
    "plt.legend(fontsize=10)\n",
    "plt.grid(True, alpha=0.3)\n",
    "plt.tight_layout()\n",
    "plt.show()"
   ]
  },
  {
   "cell_type": "markdown",
   "metadata": {},
   "source": [
    "## Residual Analysis"
   ]
  },
  {
   "cell_type": "code",
   "execution_count": null,
   "metadata": {},
   "outputs": [],
   "source": [
    "# Calculate residuals\n",
    "maxwell_residuals = stress_noisy - maxwell_pred\n",
    "zener_residuals = stress_noisy - zener_pred\n",
    "springpot_residuals = stress_noisy - springpot_pred\n",
    "\n",
    "# Plot residuals\n",
    "fig, axes = plt.subplots(1, 3, figsize=(15, 4))\n",
    "\n",
    "for ax, residuals, name in zip(axes, \n",
    "                                [maxwell_residuals, zener_residuals, springpot_residuals],\n",
    "                                ['Maxwell', 'Zener', 'SpringPot']):\n",
    "    ax.semilogx(time, residuals / stress_noisy * 100, 'o-', alpha=0.6)\n",
    "    ax.axhline(y=0, color='k', linestyle='--', linewidth=1)\n",
    "    ax.set_xlabel('Time (s)', fontsize=10)\n",
    "    ax.set_ylabel('Residual (%)', fontsize=10)\n",
    "    ax.set_title(f'{name} Residuals', fontsize=11)\n",
    "    ax.grid(True, alpha=0.3)\n",
    "\n",
    "plt.tight_layout()\n",
    "plt.show()"
   ]
  },
  {
   "cell_type": "markdown",
   "metadata": {},
   "source": [
    "## Quantitative Comparison"
   ]
  },
  {
   "cell_type": "code",
   "execution_count": null,
   "metadata": {},
   "outputs": [],
   "source": [
    "# Calculate R² and RMSE for each model\n",
    "def calculate_metrics(y_true, y_pred):\n",
    "    ss_res = np.sum((y_true - y_pred)**2)\n",
    "    ss_tot = np.sum((y_true - np.mean(y_true))**2)\n",
    "    r_squared = 1 - (ss_res / ss_tot)\n",
    "    rmse = np.sqrt(np.mean((y_true - y_pred)**2))\n",
    "    return r_squared, rmse\n",
    "\n",
    "maxwell_r2, maxwell_rmse = calculate_metrics(stress_noisy, maxwell_pred)\n",
    "zener_r2, zener_rmse = calculate_metrics(stress_noisy, zener_pred)\n",
    "springpot_r2, springpot_rmse = calculate_metrics(stress_noisy, springpot_pred)\n",
    "\n",
    "print(\"\\n\" + \"=\"*60)\n",
    "print(\"MODEL COMPARISON SUMMARY\")\n",
    "print(\"=\"*60)\n",
    "print(f\"\\nMaxwell Model:\")\n",
    "print(f\"  R² = {maxwell_r2:.4f}\")\n",
    "print(f\"  RMSE = {maxwell_rmse:.2e} Pa\")\n",
    "\n",
    "print(f\"\\nZener Model:\")\n",
    "print(f\"  R² = {zener_r2:.4f}\")\n",
    "print(f\"  RMSE = {zener_rmse:.2e} Pa\")\n",
    "\n",
    "print(f\"\\nSpringPot Model:\")\n",
    "print(f\"  R² = {springpot_r2:.4f}\")\n",
    "print(f\"  RMSE = {springpot_rmse:.2e} Pa\")\n",
    "\n",
    "# Determine best model\n",
    "models = ['Maxwell', 'Zener', 'SpringPot']\n",
    "r2_values = [maxwell_r2, zener_r2, springpot_r2]\n",
    "best_model_idx = np.argmax(r2_values)\n",
    "\n",
    "print(f\"\\n\" + \"=\"*60)\n",
    "print(f\"Best Model: {models[best_model_idx]} (R² = {r2_values[best_model_idx]:.4f})\")\n",
    "print(\"=\"*60)"
   ]
  },
  {
   "cell_type": "markdown",
   "metadata": {},
   "source": [
    "## Conclusion\n",
    "\n",
    "In this notebook, we demonstrated the basic workflow for fitting rheological models using the rheo package:\n",
    "\n",
    "1. **Data Generation**: Created synthetic stress relaxation data with realistic noise\n",
    "2. **Model Fitting**: Fitted three classical models (Maxwell, Zener, SpringPot) using the Pipeline API\n",
    "3. **Visual Comparison**: Compared model predictions against experimental data\n",
    "4. **Residual Analysis**: Examined residuals to assess fit quality\n",
    "5. **Quantitative Metrics**: Calculated R² and RMSE for objective comparison\n",
    "\n",
    "### Key Takeaways:\n",
    "\n",
    "- The **Zener model** typically performs best for materials with non-zero equilibrium modulus\n",
    "- The **Maxwell model** is suitable for materials that fully relax but may struggle with complex relaxation behaviors\n",
    "- The **SpringPot model** captures power-law behavior but may not capture equilibrium effects\n",
    "\n",
    "### Next Steps:\n",
    "\n",
    "- Explore fractional models for more complex relaxation behaviors (see `advanced_workflows.ipynb`)\n",
    "- Use `ModelComparisonPipeline` for systematic model comparison (see `multi_model_comparison.ipynb`)\n",
    "- Apply time-temperature superposition for multi-temperature data (see `mastercurve_generation.ipynb`)"
   ]
  }
 ],
 "metadata": {
  "kernelspec": {
   "display_name": "Python 3",
   "language": "python",
   "name": "python3"
  },
  "language_info": {
   "codemirror_mode": {
    "name": "ipython",
    "version": 3
   },
   "file_extension": ".py",
   "mimetype": "text/x-python",
   "name": "python",
   "nbconvert_exporter": "python",
   "pygments_lexer": "ipython3",
   "version": "3.12.0"
  }
 },
 "nbformat": 4,
 "nbformat_minor": 4
}
